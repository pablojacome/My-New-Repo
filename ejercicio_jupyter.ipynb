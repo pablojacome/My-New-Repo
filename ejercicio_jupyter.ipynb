{
 "cells": [
  {
   "cell_type": "code",
   "execution_count": null,
   "id": "093f7dfc",
   "metadata": {},
   "outputs": [],
   "source": [
    "import matplotlib as plot\n"
   ]
  },
  {
   "cell_type": "markdown",
   "id": "d7c87560",
   "metadata": {},
   "source": [
    "## HOLA MUNDO"
   ]
  }
 ],
 "metadata": {
  "language_info": {
   "name": "python"
  }
 },
 "nbformat": 4,
 "nbformat_minor": 5
}
